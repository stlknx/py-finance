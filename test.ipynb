{
 "cells": [
  {
   "cell_type": "code",
   "execution_count": 101,
   "metadata": {},
   "outputs": [],
   "source": [
    "# %pip install yfinance\n",
    "# %pip install pandas\n",
    "# %pip install pandas_datareader\n",
    "# %pip install datetime\n",
    "# %pip install numpy\n",
    "# %pip install  matplotlib"
   ]
  },
  {
   "cell_type": "code",
   "execution_count": 102,
   "metadata": {},
   "outputs": [],
   "source": [
    "import yfinance as yf\n",
    "import pandas as pd\n",
    "from pandas_datareader import data as pdr\n",
    "import datetime as dt\n",
    "import numpy as np\n",
    "import matplotlib"
   ]
  },
  {
   "cell_type": "markdown",
   "metadata": {},
   "source": [
    "## Declare Data Ranges"
   ]
  },
  {
   "cell_type": "code",
   "execution_count": 103,
   "metadata": {},
   "outputs": [
    {
     "name": "stdout",
     "output_type": "stream",
     "text": [
      "2025-01-29 10:29:42.375138\n"
     ]
    },
    {
     "data": {
      "text/plain": [
       "(datetime.datetime(2025, 1, 29, 10, 29, 42, 375138),\n",
       " datetime.datetime(2020, 1, 31, 10, 29, 42, 375138))"
      ]
     },
     "execution_count": 103,
     "metadata": {},
     "output_type": "execute_result"
    }
   ],
   "source": [
    "endDate = dt.datetime.now()\n",
    "print(endDate)\n",
    "\n",
    "startDate = endDate - dt.timedelta(days = 365*5)\n",
    "endDate, startDate"
   ]
  },
  {
   "cell_type": "code",
   "execution_count": 104,
   "metadata": {},
   "outputs": [],
   "source": [
    "stocks = ['VTI', 'VXUS', 'SMH']"
   ]
  },
  {
   "cell_type": "code",
   "execution_count": 105,
   "metadata": {},
   "outputs": [
    {
     "name": "stderr",
     "output_type": "stream",
     "text": [
      "[*********************100%***********************]  3 of 3 completed\n"
     ]
    }
   ],
   "source": [
    "df = yf.download(stocks, start = startDate, end = endDate)"
   ]
  },
  {
   "cell_type": "code",
   "execution_count": 106,
   "metadata": {},
   "outputs": [
    {
     "data": {
      "text/html": [
       "<div>\n",
       "<style scoped>\n",
       "    .dataframe tbody tr th:only-of-type {\n",
       "        vertical-align: middle;\n",
       "    }\n",
       "\n",
       "    .dataframe tbody tr th {\n",
       "        vertical-align: top;\n",
       "    }\n",
       "\n",
       "    .dataframe thead tr th {\n",
       "        text-align: left;\n",
       "    }\n",
       "\n",
       "    .dataframe thead tr:last-of-type th {\n",
       "        text-align: right;\n",
       "    }\n",
       "</style>\n",
       "<table border=\"1\" class=\"dataframe\">\n",
       "  <thead>\n",
       "    <tr>\n",
       "      <th>Price</th>\n",
       "      <th colspan=\"3\" halign=\"left\">Close</th>\n",
       "      <th colspan=\"3\" halign=\"left\">High</th>\n",
       "      <th colspan=\"3\" halign=\"left\">Low</th>\n",
       "      <th colspan=\"3\" halign=\"left\">Open</th>\n",
       "      <th colspan=\"3\" halign=\"left\">Volume</th>\n",
       "    </tr>\n",
       "    <tr>\n",
       "      <th>Ticker</th>\n",
       "      <th>SMH</th>\n",
       "      <th>VTI</th>\n",
       "      <th>VXUS</th>\n",
       "      <th>SMH</th>\n",
       "      <th>VTI</th>\n",
       "      <th>VXUS</th>\n",
       "      <th>SMH</th>\n",
       "      <th>VTI</th>\n",
       "      <th>VXUS</th>\n",
       "      <th>SMH</th>\n",
       "      <th>VTI</th>\n",
       "      <th>VXUS</th>\n",
       "      <th>SMH</th>\n",
       "      <th>VTI</th>\n",
       "      <th>VXUS</th>\n",
       "    </tr>\n",
       "    <tr>\n",
       "      <th>Date</th>\n",
       "      <th></th>\n",
       "      <th></th>\n",
       "      <th></th>\n",
       "      <th></th>\n",
       "      <th></th>\n",
       "      <th></th>\n",
       "      <th></th>\n",
       "      <th></th>\n",
       "      <th></th>\n",
       "      <th></th>\n",
       "      <th></th>\n",
       "      <th></th>\n",
       "      <th></th>\n",
       "      <th></th>\n",
       "      <th></th>\n",
       "    </tr>\n",
       "  </thead>\n",
       "  <tbody>\n",
       "    <tr>\n",
       "      <th>2020-01-31</th>\n",
       "      <td>66.484352</td>\n",
       "      <td>151.550873</td>\n",
       "      <td>46.199993</td>\n",
       "      <td>68.417458</td>\n",
       "      <td>154.043976</td>\n",
       "      <td>46.457613</td>\n",
       "      <td>66.189553</td>\n",
       "      <td>151.105997</td>\n",
       "      <td>45.950959</td>\n",
       "      <td>68.354630</td>\n",
       "      <td>153.997633</td>\n",
       "      <td>46.440441</td>\n",
       "      <td>12204800</td>\n",
       "      <td>4525300</td>\n",
       "      <td>4732600</td>\n",
       "    </tr>\n",
       "    <tr>\n",
       "      <th>2020-02-03</th>\n",
       "      <td>67.392914</td>\n",
       "      <td>152.885468</td>\n",
       "      <td>46.285873</td>\n",
       "      <td>67.484738</td>\n",
       "      <td>153.691782</td>\n",
       "      <td>46.517729</td>\n",
       "      <td>66.687334</td>\n",
       "      <td>152.283037</td>\n",
       "      <td>46.242934</td>\n",
       "      <td>66.774320</td>\n",
       "      <td>152.320117</td>\n",
       "      <td>46.294459</td>\n",
       "      <td>7682000</td>\n",
       "      <td>2783200</td>\n",
       "      <td>1828500</td>\n",
       "    </tr>\n",
       "    <tr>\n",
       "      <th>2020-02-04</th>\n",
       "      <td>69.562820</td>\n",
       "      <td>155.295120</td>\n",
       "      <td>47.101673</td>\n",
       "      <td>69.625649</td>\n",
       "      <td>155.721456</td>\n",
       "      <td>47.247660</td>\n",
       "      <td>68.852403</td>\n",
       "      <td>154.600018</td>\n",
       "      <td>47.067326</td>\n",
       "      <td>69.205193</td>\n",
       "      <td>154.748310</td>\n",
       "      <td>47.110262</td>\n",
       "      <td>10815600</td>\n",
       "      <td>2732700</td>\n",
       "      <td>1460600</td>\n",
       "    </tr>\n",
       "    <tr>\n",
       "      <th>2020-02-05</th>\n",
       "      <td>70.944992</td>\n",
       "      <td>156.824341</td>\n",
       "      <td>47.531040</td>\n",
       "      <td>71.094807</td>\n",
       "      <td>156.954093</td>\n",
       "      <td>47.677027</td>\n",
       "      <td>70.007434</td>\n",
       "      <td>155.860458</td>\n",
       "      <td>47.410818</td>\n",
       "      <td>70.800008</td>\n",
       "      <td>156.750195</td>\n",
       "      <td>47.634091</td>\n",
       "      <td>10793000</td>\n",
       "      <td>4133700</td>\n",
       "      <td>1922400</td>\n",
       "    </tr>\n",
       "    <tr>\n",
       "      <th>2020-02-06</th>\n",
       "      <td>70.993317</td>\n",
       "      <td>157.259918</td>\n",
       "      <td>47.642670</td>\n",
       "      <td>71.060975</td>\n",
       "      <td>157.398947</td>\n",
       "      <td>47.737131</td>\n",
       "      <td>70.166918</td>\n",
       "      <td>156.805794</td>\n",
       "      <td>47.591144</td>\n",
       "      <td>71.041647</td>\n",
       "      <td>157.334064</td>\n",
       "      <td>47.702781</td>\n",
       "      <td>5421800</td>\n",
       "      <td>2202300</td>\n",
       "      <td>4498200</td>\n",
       "    </tr>\n",
       "  </tbody>\n",
       "</table>\n",
       "</div>"
      ],
      "text/plain": [
       "Price           Close                              High              \\\n",
       "Ticker            SMH         VTI       VXUS        SMH         VTI   \n",
       "Date                                                                  \n",
       "2020-01-31  66.484352  151.550873  46.199993  68.417458  154.043976   \n",
       "2020-02-03  67.392914  152.885468  46.285873  67.484738  153.691782   \n",
       "2020-02-04  69.562820  155.295120  47.101673  69.625649  155.721456   \n",
       "2020-02-05  70.944992  156.824341  47.531040  71.094807  156.954093   \n",
       "2020-02-06  70.993317  157.259918  47.642670  71.060975  157.398947   \n",
       "\n",
       "Price                        Low                              Open  \\\n",
       "Ticker           VXUS        SMH         VTI       VXUS        SMH   \n",
       "Date                                                                 \n",
       "2020-01-31  46.457613  66.189553  151.105997  45.950959  68.354630   \n",
       "2020-02-03  46.517729  66.687334  152.283037  46.242934  66.774320   \n",
       "2020-02-04  47.247660  68.852403  154.600018  47.067326  69.205193   \n",
       "2020-02-05  47.677027  70.007434  155.860458  47.410818  70.800008   \n",
       "2020-02-06  47.737131  70.166918  156.805794  47.591144  71.041647   \n",
       "\n",
       "Price                                Volume                    \n",
       "Ticker             VTI       VXUS       SMH      VTI     VXUS  \n",
       "Date                                                           \n",
       "2020-01-31  153.997633  46.440441  12204800  4525300  4732600  \n",
       "2020-02-03  152.320117  46.294459   7682000  2783200  1828500  \n",
       "2020-02-04  154.748310  47.110262  10815600  2732700  1460600  \n",
       "2020-02-05  156.750195  47.634091  10793000  4133700  1922400  \n",
       "2020-02-06  157.334064  47.702781   5421800  2202300  4498200  "
      ]
     },
     "execution_count": 106,
     "metadata": {},
     "output_type": "execute_result"
    }
   ],
   "source": [
    "df.head()"
   ]
  },
  {
   "cell_type": "code",
   "execution_count": 107,
   "metadata": {},
   "outputs": [],
   "source": [
    "adj_close_prices = df['Close']"
   ]
  },
  {
   "cell_type": "code",
   "execution_count": 108,
   "metadata": {},
   "outputs": [
    {
     "data": {
      "text/html": [
       "<div>\n",
       "<style scoped>\n",
       "    .dataframe tbody tr th:only-of-type {\n",
       "        vertical-align: middle;\n",
       "    }\n",
       "\n",
       "    .dataframe tbody tr th {\n",
       "        vertical-align: top;\n",
       "    }\n",
       "\n",
       "    .dataframe thead th {\n",
       "        text-align: right;\n",
       "    }\n",
       "</style>\n",
       "<table border=\"1\" class=\"dataframe\">\n",
       "  <thead>\n",
       "    <tr style=\"text-align: right;\">\n",
       "      <th>Ticker</th>\n",
       "      <th>SMH</th>\n",
       "      <th>VTI</th>\n",
       "      <th>VXUS</th>\n",
       "    </tr>\n",
       "    <tr>\n",
       "      <th>Date</th>\n",
       "      <th></th>\n",
       "      <th></th>\n",
       "      <th></th>\n",
       "    </tr>\n",
       "  </thead>\n",
       "  <tbody>\n",
       "    <tr>\n",
       "      <th>2020-01-31</th>\n",
       "      <td>66.484352</td>\n",
       "      <td>151.550873</td>\n",
       "      <td>46.199993</td>\n",
       "    </tr>\n",
       "    <tr>\n",
       "      <th>2020-02-03</th>\n",
       "      <td>67.392914</td>\n",
       "      <td>152.885468</td>\n",
       "      <td>46.285873</td>\n",
       "    </tr>\n",
       "    <tr>\n",
       "      <th>2020-02-04</th>\n",
       "      <td>69.562820</td>\n",
       "      <td>155.295120</td>\n",
       "      <td>47.101673</td>\n",
       "    </tr>\n",
       "    <tr>\n",
       "      <th>2020-02-05</th>\n",
       "      <td>70.944992</td>\n",
       "      <td>156.824341</td>\n",
       "      <td>47.531040</td>\n",
       "    </tr>\n",
       "    <tr>\n",
       "      <th>2020-02-06</th>\n",
       "      <td>70.993317</td>\n",
       "      <td>157.259918</td>\n",
       "      <td>47.642670</td>\n",
       "    </tr>\n",
       "  </tbody>\n",
       "</table>\n",
       "</div>"
      ],
      "text/plain": [
       "Ticker            SMH         VTI       VXUS\n",
       "Date                                        \n",
       "2020-01-31  66.484352  151.550873  46.199993\n",
       "2020-02-03  67.392914  152.885468  46.285873\n",
       "2020-02-04  69.562820  155.295120  47.101673\n",
       "2020-02-05  70.944992  156.824341  47.531040\n",
       "2020-02-06  70.993317  157.259918  47.642670"
      ]
     },
     "execution_count": 108,
     "metadata": {},
     "output_type": "execute_result"
    }
   ],
   "source": [
    "adj_close_prices.head()"
   ]
  },
  {
   "cell_type": "markdown",
   "metadata": {},
   "source": [
    "## If you want to select multiple pieces of data to be selected in the data frame add []"
   ]
  },
  {
   "cell_type": "code",
   "execution_count": 109,
   "metadata": {},
   "outputs": [],
   "source": [
    "open_close_prices = df[['Open', 'Close']]"
   ]
  },
  {
   "cell_type": "code",
   "execution_count": 110,
   "metadata": {},
   "outputs": [
    {
     "data": {
      "text/html": [
       "<div>\n",
       "<style scoped>\n",
       "    .dataframe tbody tr th:only-of-type {\n",
       "        vertical-align: middle;\n",
       "    }\n",
       "\n",
       "    .dataframe tbody tr th {\n",
       "        vertical-align: top;\n",
       "    }\n",
       "\n",
       "    .dataframe thead tr th {\n",
       "        text-align: left;\n",
       "    }\n",
       "\n",
       "    .dataframe thead tr:last-of-type th {\n",
       "        text-align: right;\n",
       "    }\n",
       "</style>\n",
       "<table border=\"1\" class=\"dataframe\">\n",
       "  <thead>\n",
       "    <tr>\n",
       "      <th>Price</th>\n",
       "      <th colspan=\"3\" halign=\"left\">Open</th>\n",
       "      <th colspan=\"3\" halign=\"left\">Close</th>\n",
       "    </tr>\n",
       "    <tr>\n",
       "      <th>Ticker</th>\n",
       "      <th>SMH</th>\n",
       "      <th>VTI</th>\n",
       "      <th>VXUS</th>\n",
       "      <th>SMH</th>\n",
       "      <th>VTI</th>\n",
       "      <th>VXUS</th>\n",
       "    </tr>\n",
       "    <tr>\n",
       "      <th>Date</th>\n",
       "      <th></th>\n",
       "      <th></th>\n",
       "      <th></th>\n",
       "      <th></th>\n",
       "      <th></th>\n",
       "      <th></th>\n",
       "    </tr>\n",
       "  </thead>\n",
       "  <tbody>\n",
       "    <tr>\n",
       "      <th>2020-01-31</th>\n",
       "      <td>68.354630</td>\n",
       "      <td>153.997633</td>\n",
       "      <td>46.440441</td>\n",
       "      <td>66.484352</td>\n",
       "      <td>151.550873</td>\n",
       "      <td>46.199993</td>\n",
       "    </tr>\n",
       "    <tr>\n",
       "      <th>2020-02-03</th>\n",
       "      <td>66.774320</td>\n",
       "      <td>152.320117</td>\n",
       "      <td>46.294459</td>\n",
       "      <td>67.392914</td>\n",
       "      <td>152.885468</td>\n",
       "      <td>46.285873</td>\n",
       "    </tr>\n",
       "    <tr>\n",
       "      <th>2020-02-04</th>\n",
       "      <td>69.205193</td>\n",
       "      <td>154.748310</td>\n",
       "      <td>47.110262</td>\n",
       "      <td>69.562820</td>\n",
       "      <td>155.295120</td>\n",
       "      <td>47.101673</td>\n",
       "    </tr>\n",
       "    <tr>\n",
       "      <th>2020-02-05</th>\n",
       "      <td>70.800008</td>\n",
       "      <td>156.750195</td>\n",
       "      <td>47.634091</td>\n",
       "      <td>70.944992</td>\n",
       "      <td>156.824341</td>\n",
       "      <td>47.531040</td>\n",
       "    </tr>\n",
       "    <tr>\n",
       "      <th>2020-02-06</th>\n",
       "      <td>71.041647</td>\n",
       "      <td>157.334064</td>\n",
       "      <td>47.702781</td>\n",
       "      <td>70.993317</td>\n",
       "      <td>157.259918</td>\n",
       "      <td>47.642670</td>\n",
       "    </tr>\n",
       "  </tbody>\n",
       "</table>\n",
       "</div>"
      ],
      "text/plain": [
       "Price            Open                             Close                       \n",
       "Ticker            SMH         VTI       VXUS        SMH         VTI       VXUS\n",
       "Date                                                                          \n",
       "2020-01-31  68.354630  153.997633  46.440441  66.484352  151.550873  46.199993\n",
       "2020-02-03  66.774320  152.320117  46.294459  67.392914  152.885468  46.285873\n",
       "2020-02-04  69.205193  154.748310  47.110262  69.562820  155.295120  47.101673\n",
       "2020-02-05  70.800008  156.750195  47.634091  70.944992  156.824341  47.531040\n",
       "2020-02-06  71.041647  157.334064  47.702781  70.993317  157.259918  47.642670"
      ]
     },
     "execution_count": 110,
     "metadata": {},
     "output_type": "execute_result"
    }
   ],
   "source": [
    "open_close_prices.head()"
   ]
  },
  {
   "cell_type": "markdown",
   "metadata": {},
   "source": [
    "## Calculate Daily Returns"
   ]
  },
  {
   "cell_type": "code",
   "execution_count": 111,
   "metadata": {},
   "outputs": [
    {
     "data": {
      "text/html": [
       "<div>\n",
       "<style scoped>\n",
       "    .dataframe tbody tr th:only-of-type {\n",
       "        vertical-align: middle;\n",
       "    }\n",
       "\n",
       "    .dataframe tbody tr th {\n",
       "        vertical-align: top;\n",
       "    }\n",
       "\n",
       "    .dataframe thead th {\n",
       "        text-align: right;\n",
       "    }\n",
       "</style>\n",
       "<table border=\"1\" class=\"dataframe\">\n",
       "  <thead>\n",
       "    <tr style=\"text-align: right;\">\n",
       "      <th>Ticker</th>\n",
       "      <th>SMH</th>\n",
       "      <th>VTI</th>\n",
       "      <th>VXUS</th>\n",
       "    </tr>\n",
       "    <tr>\n",
       "      <th>Date</th>\n",
       "      <th></th>\n",
       "      <th></th>\n",
       "      <th></th>\n",
       "    </tr>\n",
       "  </thead>\n",
       "  <tbody>\n",
       "    <tr>\n",
       "      <th>2020-01-31</th>\n",
       "      <td>NaN</td>\n",
       "      <td>NaN</td>\n",
       "      <td>NaN</td>\n",
       "    </tr>\n",
       "    <tr>\n",
       "      <th>2020-02-03</th>\n",
       "      <td>0.013573</td>\n",
       "      <td>0.008768</td>\n",
       "      <td>0.001857</td>\n",
       "    </tr>\n",
       "    <tr>\n",
       "      <th>2020-02-04</th>\n",
       "      <td>0.031690</td>\n",
       "      <td>0.015638</td>\n",
       "      <td>0.017472</td>\n",
       "    </tr>\n",
       "    <tr>\n",
       "      <th>2020-02-05</th>\n",
       "      <td>0.019675</td>\n",
       "      <td>0.009799</td>\n",
       "      <td>0.009074</td>\n",
       "    </tr>\n",
       "    <tr>\n",
       "      <th>2020-02-06</th>\n",
       "      <td>0.000681</td>\n",
       "      <td>0.002774</td>\n",
       "      <td>0.002346</td>\n",
       "    </tr>\n",
       "  </tbody>\n",
       "</table>\n",
       "</div>"
      ],
      "text/plain": [
       "Ticker           SMH       VTI      VXUS\n",
       "Date                                    \n",
       "2020-01-31       NaN       NaN       NaN\n",
       "2020-02-03  0.013573  0.008768  0.001857\n",
       "2020-02-04  0.031690  0.015638  0.017472\n",
       "2020-02-05  0.019675  0.009799  0.009074\n",
       "2020-02-06  0.000681  0.002774  0.002346"
      ]
     },
     "execution_count": 111,
     "metadata": {},
     "output_type": "execute_result"
    }
   ],
   "source": [
    "log_return = np.log(adj_close_prices/adj_close_prices.shift(1))\n",
    "log_return.head()"
   ]
  },
  {
   "cell_type": "code",
   "execution_count": 112,
   "metadata": {},
   "outputs": [],
   "source": [
    "cumulative_log_returns = log_return.cumsum()"
   ]
  },
  {
   "cell_type": "code",
   "execution_count": 113,
   "metadata": {},
   "outputs": [
    {
     "data": {
      "text/plain": [
       "<Axes: title={'center': 'Cumulative Returns'}, xlabel='Date'>"
      ]
     },
     "execution_count": 113,
     "metadata": {},
     "output_type": "execute_result"
    },
    {
     "data": {
      "image/png": "[encoded data removed]",
      "text/plain": [
       "<Figure size 1000x600 with 1 Axes>"
      ]
     },
     "metadata": {},
     "output_type": "display_data"
    }
   ],
   "source": [
    "cumulative_log_returns.plot(title = \"Cumulative Returns\", figsize = (10,6))"
   ]
  }
 ],
 "metadata": {
  "kernelspec": {
   "display_name": "Python 3",
   "language": "python",
   "name": "python3"
  },
  "language_info": {
   "codemirror_mode": {
    "name": "ipython",
    "version": 3
   },
   "file_extension": ".py",
   "mimetype": "text/x-python",
   "name": "python",
   "nbconvert_exporter": "python",
   "pygments_lexer": "ipython3",
   "version": "3.11.0"
  }
 },
 "nbformat": 4,
 "nbformat_minor": 2
}
